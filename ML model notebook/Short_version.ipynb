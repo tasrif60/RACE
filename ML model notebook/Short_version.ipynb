{
 "cells": [
  {
   "cell_type": "code",
   "execution_count": 1,
   "metadata": {
    "pycharm": {
     "is_executing": false
    }
   },
   "outputs": [],
   "source": [
    "#libraries \n",
    "import os\n",
    "import pandas as pd\n",
    "import numpy as np\n",
    "\n",
    "from sklearn.naive_bayes import GaussianNB\n",
    "from sklearn.ensemble import RandomForestClassifier\n",
    "from sklearn.neighbors import KNeighborsClassifier\n",
    "from sklearn.tree import DecisionTreeClassifier\n",
    "\n",
    "#accuracy measures\n",
    "from sklearn.metrics import mean_squared_error\n",
    "from sklearn.metrics import explained_variance_score\n",
    "from sklearn.metrics import mean_absolute_error\n",
    "from sklearn.metrics import median_absolute_error\n",
    "from sklearn.metrics import r2_score\n",
    "\n",
    "from sklearn.pipeline import Pipeline\n",
    "from sklearn.preprocessing import StandardScaler\n",
    "\n",
    "from sklearn.model_selection import train_test_split\n",
    "from sklearn.utils import resample\n",
    "from sklearn.model_selection import cross_val_score\n",
    "from sklearn.metrics import classification_report\n",
    "\n",
    "from sklearn.utils import shuffle\n",
    "\n",
    "from sklearn.model_selection import train_test_split\n",
    "\n",
    "from sklearn.metrics import accuracy_score, confusion_matrix, classification_report\n",
    "\n",
    "from sklearn.ensemble import ExtraTreesClassifier\n",
    "import matplotlib.pyplot as plt\n",
    "\n",
    "import pickle\n"
   ]
  },
  {
   "cell_type": "code",
   "execution_count": 2,
   "metadata": {
    "pycharm": {
     "is_executing": false
    }
   },
   "outputs": [
    {
     "name": "stderr",
     "output_type": "stream",
     "text": [
      "/Users/tasrifahmed/opt/anaconda3/lib/python3.8/site-packages/IPython/core/interactiveshell.py:3071: DtypeWarning: Columns (1,2,5,12) have mixed types.Specify dtype option on import or set low_memory=False.\n",
      "  has_raised = await self.run_ast_nodes(code_ast.body, cell_name,\n"
     ]
    }
   ],
   "source": [
    "#path = '/Users/mustakimsunny/Desktop/ML/hasin_SGI_project/sgi_project/data/'\n",
    "#path = '/Users/tasrifahmed'\n",
    "#file = 'NCDB_1999_to_2017.csv'\n",
    "dataset = pd.read_csv(\"/Users/tasrifahmed/PyProjects/untitled/NCDB_1999_to_2017.csv\")"
   ]
  },
  {
   "cell_type": "code",
   "execution_count": 3,
   "metadata": {
    "pycharm": {
     "is_executing": false
    }
   },
   "outputs": [],
   "source": [
    "#Cleaning form unwanted data\n",
    "df = dataset[(dataset.C_MNTH != 'UU') & (dataset.C_WDAY != 'U') & (dataset.C_HOUR != 'UU') & (dataset.C_VEHS != 'UU') &\n",
    "            (dataset.C_CONF != 'QQ') & (dataset.C_CONF != 'UU') & (dataset.C_RCFG != 'UU') & (dataset.C_RCFG != 'QQ') &\n",
    "            (dataset.C_WTHR != 'U') & (dataset.C_WTHR != 'Q') & (dataset.C_RSUR != 'Q') & (dataset.C_RSUR != 'U') & \n",
    "            (dataset.C_RALN != 'U') & (dataset.C_RALN != 'Q') & (dataset.C_TRAF != 'QQ') & (dataset.C_TRAF != 'UU') &\n",
    "            (dataset.V_ID != 'UU') & (dataset.V_TYPE != 'UU') & (dataset.V_TYPE != 'NN') & (dataset.V_TYPE != 'QQ') & \n",
    "            (dataset.V_YEAR != 'NNNN') & (dataset.V_YEAR != 'UUUU') & (dataset.P_ID != 'NN') & (dataset.P_ID != 'UU') &\n",
    "            (dataset.P_SEX != 'U') & (dataset.P_SEX != 'N') & (dataset.P_AGE != 'UU') & (dataset.P_AGE != 'NN') & \n",
    "            (dataset.P_PSN != 'QQ') & (dataset.P_PSN != 'UU') & (dataset.P_PSN != 'NN') & (dataset.P_ISEV != 'N') & \n",
    "             (dataset.P_ISEV != 'U') & (dataset.P_SAFE != 'QQ') & (dataset.P_SAFE != 'NN') & (dataset.P_SAFE != 'UU') & \n",
    "            (dataset.P_USER != 'U')]"
   ]
  },
  {
   "cell_type": "code",
   "execution_count": 4,
   "metadata": {},
   "outputs": [
    {
     "name": "stderr",
     "output_type": "stream",
     "text": [
      "<ipython-input-4-050eb65e980d>:5: SettingWithCopyWarning: \n",
      "A value is trying to be set on a copy of a slice from a DataFrame.\n",
      "Try using .loc[row_indexer,col_indexer] = value instead\n",
      "\n",
      "See the caveats in the documentation: https://pandas.pydata.org/pandas-docs/stable/user_guide/indexing.html#returning-a-view-versus-a-copy\n",
      "  df[col] = df[col].astype(int)\n"
     ]
    }
   ],
   "source": [
    "# Make all coumns int\n",
    "\n",
    "def make_int(df, *arg):\n",
    "    for col in arg:\n",
    "        df[col] = df[col].astype(int)\n",
    "    return df\n",
    "\n",
    "df = make_int(df, 'C_YEAR','C_MNTH','C_WDAY','C_HOUR','C_SEV','C_VEHS','C_CONF','C_RCFG','C_WTHR','C_RSUR',\n",
    "              'C_RALN','C_TRAF','V_ID','V_TYPE','V_YEAR','P_ID','P_AGE','P_PSN','P_ISEV','P_SAFE','P_USER','C_CASE')"
   ]
  },
  {
   "cell_type": "code",
   "execution_count": 5,
   "metadata": {},
   "outputs": [
    {
     "name": "stderr",
     "output_type": "stream",
     "text": [
      "<ipython-input-5-8e146d2ae008>:4: SettingWithCopyWarning: \n",
      "A value is trying to be set on a copy of a slice from a DataFrame.\n",
      "Try using .loc[row_indexer,col_indexer] = value instead\n",
      "\n",
      "See the caveats in the documentation: https://pandas.pydata.org/pandas-docs/stable/user_guide/indexing.html#returning-a-view-versus-a-copy\n",
      "  df[column] = df[column].astype('category')\n",
      "<ipython-input-5-8e146d2ae008>:5: SettingWithCopyWarning: \n",
      "A value is trying to be set on a copy of a slice from a DataFrame.\n",
      "Try using .loc[row_indexer,col_indexer] = value instead\n",
      "\n",
      "See the caveats in the documentation: https://pandas.pydata.org/pandas-docs/stable/user_guide/indexing.html#returning-a-view-versus-a-copy\n",
      "  df[column] = df[column].cat.codes\n"
     ]
    }
   ],
   "source": [
    "#make all column categorical data\n",
    "def convert_to_cat(df, *arg):\n",
    "    for column in arg:\n",
    "        df[column] = df[column].astype('category')\n",
    "        df[column] = df[column].cat.codes\n",
    "        \n",
    "    return df\n",
    "\n",
    "df = convert_to_cat(df, 'C_YEAR','C_MNTH','C_WDAY','C_HOUR','C_SEV','C_VEHS','C_CONF','C_RCFG','C_WTHR','C_RSUR',\n",
    "              'C_RALN','C_TRAF','V_ID','V_TYPE','V_YEAR','P_ID','P_AGE','P_PSN','P_ISEV','P_SAFE','P_USER','C_CASE', 'P_SEX')"
   ]
  },
  {
   "cell_type": "code",
   "execution_count": 6,
   "metadata": {},
   "outputs": [],
   "source": [
    "#seperate target col from other features to see feature importance\n",
    "X = df.drop(['C_RCFG', 'C_CASE'], axis=1)  #independent columns\n",
    "y = df['C_RCFG']    #target column i.e price range"
   ]
  },
  {
   "cell_type": "code",
   "execution_count": 7,
   "metadata": {},
   "outputs": [
    {
     "name": "stdout",
     "output_type": "stream",
     "text": [
      "     Specs         Score\n",
      "10  C_TRAF  1.312417e+07\n",
      "6   C_CONF  2.095772e+06\n",
      "9   C_RALN  3.034329e+05\n",
      "8   C_RSUR  1.476200e+05\n",
      "16   P_AGE  7.868552e+04\n",
      "7   C_WTHR  7.836030e+04\n",
      "0   C_YEAR  4.335337e+04\n",
      "12  V_TYPE  2.944987e+04\n",
      "18  P_ISEV  1.799216e+04\n",
      "3   C_HOUR  1.754756e+04\n",
      "5   C_VEHS  1.273484e+04\n",
      "11    V_ID  6.787337e+03\n",
      "13  V_YEAR  5.482935e+03\n",
      "2   C_WDAY  3.242556e+03\n",
      "14    P_ID  2.444056e+03\n",
      "15   P_SEX  1.924622e+03\n",
      "20  P_USER  1.599623e+03\n",
      "17   P_PSN  8.623420e+02\n",
      "19  P_SAFE  3.249773e+02\n",
      "1   C_MNTH  2.722133e+02\n"
     ]
    }
   ],
   "source": [
    "#univariate selection\n",
    "\n",
    "import pandas as pd\n",
    "import numpy as np\n",
    "from sklearn.feature_selection import SelectKBest\n",
    "from sklearn.feature_selection import chi2\n",
    "\n",
    "\n",
    "#apply SelectKBest class to extract top 10 best features\n",
    "bestfeatures = SelectKBest(score_func=chi2, k=20)\n",
    "fit = bestfeatures.fit(X,y)\n",
    "dfscores = pd.DataFrame(fit.scores_)\n",
    "dfcolumns = pd.DataFrame(X.columns)\n",
    "\n",
    "#concat two dataframes for better visualization \n",
    "featureScores = pd.concat([dfcolumns,dfscores],axis=1)\n",
    "featureScores.columns = ['Specs','Score']  #naming the dataframe columns\n",
    "print(featureScores.nlargest(20,'Score'))  #print 10 best features"
   ]
  },
  {
   "cell_type": "code",
   "execution_count": 8,
   "metadata": {},
   "outputs": [],
   "source": [
    "#drop cols that are not important after feature engineering\n",
    "def drop_cols(df,*arg):\n",
    "    columns = list(arg)\n",
    "    df = df.drop(columns, axis=1)\n",
    "    return df\n",
    "\n",
    "df = drop_cols(df,'V_ID','P_PSN','C_CASE','P_SAFE','C_RSUR','C_RALN','P_USER','P_SEX','V_TYPE','C_SEV','P_ISEV','P_ID')"
   ]
  },
  {
   "cell_type": "code",
   "execution_count": 9,
   "metadata": {},
   "outputs": [
    {
     "data": {
      "text/plain": [
       "1    2014779\n",
       "0    1523700\n",
       "2     218917\n",
       "4      35001\n",
       "3      11838\n",
       "7       7185\n",
       "5       4279\n",
       "8       1299\n",
       "6        364\n",
       "9        251\n",
       "Name: C_RCFG, dtype: int64"
      ]
     },
     "execution_count": 9,
     "metadata": {},
     "output_type": "execute_result"
    }
   ],
   "source": [
    "#looks like the class values are heavily imbalanced\n",
    "df['C_RCFG'].value_counts()"
   ]
  },
  {
   "cell_type": "code",
   "execution_count": 10,
   "metadata": {},
   "outputs": [],
   "source": [
    "#upsample data to balance\n",
    "def balance_dataset(dataset, column, frequency_val):\n",
    "    count = dataset[column].value_counts()\n",
    "    classes = [key for key,val in count.items()]\n",
    "    df_majority = dataset.loc[dataset[column] == classes[0]]\n",
    "    \n",
    "    all_minor_dfs = []\n",
    "    for val in classes[1:]:\n",
    "        all_minor_dfs.append(dataset.loc[dataset[column] == val])\n",
    "    \n",
    "    # Upsample minority class\n",
    "    all_minor_dfs_upsampled = []\n",
    "    for val in all_minor_dfs:\n",
    "        df_minority_upsampled = resample(val, \n",
    "                                     replace=True,     # sample with replacement\n",
    "                                     n_samples=frequency_val,    # to match majority class\n",
    "                                     random_state=123) # reproducible results\n",
    "        all_minor_dfs_upsampled.append(df_minority_upsampled)\n",
    "        \n",
    "    #concatenate majority class with matching upsampled classes\n",
    "    #for df in all_minor_dfs_upsampled:\n",
    "    df_balanced = pd.concat([df_majority, all_minor_dfs_upsampled[0]])\n",
    "    for df in all_minor_dfs_upsampled[1:]:\n",
    "        df_balanced = pd.concat([df_balanced, df])\n",
    "    \n",
    "    df_balanced = shuffle(df_balanced)\n",
    "    return df_balanced\n",
    "\n",
    "df_balanced = balance_dataset(df, 'C_RCFG',2014779)"
   ]
  },
  {
   "cell_type": "code",
   "execution_count": 14,
   "metadata": {},
   "outputs": [
    {
     "data": {
      "text/plain": [
       "9    2014779\n",
       "8    2014779\n",
       "7    2014779\n",
       "6    2014779\n",
       "5    2014779\n",
       "4    2014779\n",
       "3    2014779\n",
       "2    2014779\n",
       "1    2014779\n",
       "0    2014779\n",
       "Name: C_RCFG, dtype: int64"
      ]
     },
     "execution_count": 14,
     "metadata": {},
     "output_type": "execute_result"
    }
   ],
   "source": [
    "df_balanced['C_RCFG'].value_counts()"
   ]
  },
  {
   "cell_type": "code",
   "execution_count": 11,
   "metadata": {},
   "outputs": [],
   "source": [
    "df_balanced = df_balanced[:40000]"
   ]
  },
  {
   "cell_type": "code",
   "execution_count": 12,
   "metadata": {},
   "outputs": [
    {
     "data": {
      "text/html": [
       "<div>\n",
       "<style scoped>\n",
       "    .dataframe tbody tr th:only-of-type {\n",
       "        vertical-align: middle;\n",
       "    }\n",
       "\n",
       "    .dataframe tbody tr th {\n",
       "        vertical-align: top;\n",
       "    }\n",
       "\n",
       "    .dataframe thead th {\n",
       "        text-align: right;\n",
       "    }\n",
       "</style>\n",
       "<table border=\"1\" class=\"dataframe\">\n",
       "  <thead>\n",
       "    <tr style=\"text-align: right;\">\n",
       "      <th></th>\n",
       "      <th>C_YEAR</th>\n",
       "      <th>C_MNTH</th>\n",
       "      <th>C_WDAY</th>\n",
       "      <th>C_HOUR</th>\n",
       "      <th>C_VEHS</th>\n",
       "      <th>C_CONF</th>\n",
       "      <th>C_RCFG</th>\n",
       "      <th>C_WTHR</th>\n",
       "      <th>C_TRAF</th>\n",
       "      <th>V_YEAR</th>\n",
       "      <th>P_AGE</th>\n",
       "    </tr>\n",
       "  </thead>\n",
       "  <tbody>\n",
       "    <tr>\n",
       "      <th>575106</th>\n",
       "      <td>1</td>\n",
       "      <td>5</td>\n",
       "      <td>0</td>\n",
       "      <td>8</td>\n",
       "      <td>4</td>\n",
       "      <td>6</td>\n",
       "      <td>4</td>\n",
       "      <td>2</td>\n",
       "      <td>16</td>\n",
       "      <td>73</td>\n",
       "      <td>31</td>\n",
       "    </tr>\n",
       "    <tr>\n",
       "      <th>4098105</th>\n",
       "      <td>10</td>\n",
       "      <td>6</td>\n",
       "      <td>3</td>\n",
       "      <td>17</td>\n",
       "      <td>1</td>\n",
       "      <td>6</td>\n",
       "      <td>3</td>\n",
       "      <td>1</td>\n",
       "      <td>16</td>\n",
       "      <td>88</td>\n",
       "      <td>38</td>\n",
       "    </tr>\n",
       "    <tr>\n",
       "      <th>458137</th>\n",
       "      <td>1</td>\n",
       "      <td>1</td>\n",
       "      <td>2</td>\n",
       "      <td>18</td>\n",
       "      <td>1</td>\n",
       "      <td>13</td>\n",
       "      <td>3</td>\n",
       "      <td>3</td>\n",
       "      <td>16</td>\n",
       "      <td>91</td>\n",
       "      <td>34</td>\n",
       "    </tr>\n",
       "    <tr>\n",
       "      <th>1082244</th>\n",
       "      <td>2</td>\n",
       "      <td>7</td>\n",
       "      <td>3</td>\n",
       "      <td>20</td>\n",
       "      <td>0</td>\n",
       "      <td>5</td>\n",
       "      <td>6</td>\n",
       "      <td>0</td>\n",
       "      <td>16</td>\n",
       "      <td>86</td>\n",
       "      <td>31</td>\n",
       "    </tr>\n",
       "    <tr>\n",
       "      <th>141071</th>\n",
       "      <td>0</td>\n",
       "      <td>4</td>\n",
       "      <td>4</td>\n",
       "      <td>13</td>\n",
       "      <td>3</td>\n",
       "      <td>6</td>\n",
       "      <td>4</td>\n",
       "      <td>2</td>\n",
       "      <td>16</td>\n",
       "      <td>78</td>\n",
       "      <td>23</td>\n",
       "    </tr>\n",
       "    <tr>\n",
       "      <th>...</th>\n",
       "      <td>...</td>\n",
       "      <td>...</td>\n",
       "      <td>...</td>\n",
       "      <td>...</td>\n",
       "      <td>...</td>\n",
       "      <td>...</td>\n",
       "      <td>...</td>\n",
       "      <td>...</td>\n",
       "      <td>...</td>\n",
       "      <td>...</td>\n",
       "      <td>...</td>\n",
       "    </tr>\n",
       "    <tr>\n",
       "      <th>4631445</th>\n",
       "      <td>12</td>\n",
       "      <td>1</td>\n",
       "      <td>1</td>\n",
       "      <td>13</td>\n",
       "      <td>2</td>\n",
       "      <td>15</td>\n",
       "      <td>2</td>\n",
       "      <td>0</td>\n",
       "      <td>0</td>\n",
       "      <td>100</td>\n",
       "      <td>79</td>\n",
       "    </tr>\n",
       "    <tr>\n",
       "      <th>2914091</th>\n",
       "      <td>7</td>\n",
       "      <td>2</td>\n",
       "      <td>2</td>\n",
       "      <td>8</td>\n",
       "      <td>1</td>\n",
       "      <td>6</td>\n",
       "      <td>3</td>\n",
       "      <td>1</td>\n",
       "      <td>16</td>\n",
       "      <td>93</td>\n",
       "      <td>50</td>\n",
       "    </tr>\n",
       "    <tr>\n",
       "      <th>905064</th>\n",
       "      <td>2</td>\n",
       "      <td>2</td>\n",
       "      <td>1</td>\n",
       "      <td>12</td>\n",
       "      <td>1</td>\n",
       "      <td>6</td>\n",
       "      <td>7</td>\n",
       "      <td>2</td>\n",
       "      <td>3</td>\n",
       "      <td>77</td>\n",
       "      <td>19</td>\n",
       "    </tr>\n",
       "    <tr>\n",
       "      <th>262192</th>\n",
       "      <td>0</td>\n",
       "      <td>7</td>\n",
       "      <td>5</td>\n",
       "      <td>21</td>\n",
       "      <td>1</td>\n",
       "      <td>14</td>\n",
       "      <td>7</td>\n",
       "      <td>1</td>\n",
       "      <td>16</td>\n",
       "      <td>89</td>\n",
       "      <td>42</td>\n",
       "    </tr>\n",
       "    <tr>\n",
       "      <th>1142614</th>\n",
       "      <td>2</td>\n",
       "      <td>9</td>\n",
       "      <td>1</td>\n",
       "      <td>11</td>\n",
       "      <td>1</td>\n",
       "      <td>6</td>\n",
       "      <td>1</td>\n",
       "      <td>0</td>\n",
       "      <td>0</td>\n",
       "      <td>87</td>\n",
       "      <td>19</td>\n",
       "    </tr>\n",
       "  </tbody>\n",
       "</table>\n",
       "<p>40000 rows × 11 columns</p>\n",
       "</div>"
      ],
      "text/plain": [
       "         C_YEAR  C_MNTH  C_WDAY  C_HOUR  C_VEHS  C_CONF  C_RCFG  C_WTHR  \\\n",
       "575106        1       5       0       8       4       6       4       2   \n",
       "4098105      10       6       3      17       1       6       3       1   \n",
       "458137        1       1       2      18       1      13       3       3   \n",
       "1082244       2       7       3      20       0       5       6       0   \n",
       "141071        0       4       4      13       3       6       4       2   \n",
       "...         ...     ...     ...     ...     ...     ...     ...     ...   \n",
       "4631445      12       1       1      13       2      15       2       0   \n",
       "2914091       7       2       2       8       1       6       3       1   \n",
       "905064        2       2       1      12       1       6       7       2   \n",
       "262192        0       7       5      21       1      14       7       1   \n",
       "1142614       2       9       1      11       1       6       1       0   \n",
       "\n",
       "         C_TRAF  V_YEAR  P_AGE  \n",
       "575106       16      73     31  \n",
       "4098105      16      88     38  \n",
       "458137       16      91     34  \n",
       "1082244      16      86     31  \n",
       "141071       16      78     23  \n",
       "...         ...     ...    ...  \n",
       "4631445       0     100     79  \n",
       "2914091      16      93     50  \n",
       "905064        3      77     19  \n",
       "262192       16      89     42  \n",
       "1142614       0      87     19  \n",
       "\n",
       "[40000 rows x 11 columns]"
      ]
     },
     "execution_count": 12,
     "metadata": {},
     "output_type": "execute_result"
    }
   ],
   "source": [
    "df_balanced"
   ]
  },
  {
   "cell_type": "code",
   "execution_count": 13,
   "metadata": {},
   "outputs": [],
   "source": [
    "#split into train and test\n",
    "def split_train_test(dataframe, target):\n",
    "    train_set, test_set = train_test_split(dataframe, test_size=0.2, random_state=42)\n",
    "    X_train, X_test = train_set.drop(target, axis=1), test_set.drop(target, axis=1)\n",
    "    y_train, y_test = train_set[target], test_set[target]\n",
    "    \n",
    "    return X_train, X_test, y_train, y_test \n",
    "\n",
    "X_train, X_test, y_train, y_test = split_train_test(df_balanced, 'C_RCFG')"
   ]
  },
  {
   "cell_type": "code",
   "execution_count": 14,
   "metadata": {},
   "outputs": [],
   "source": [
    "#algorithms = [KNeighborsClassifier(), DecisionTreeClassifier(),RandomForestClassifier(), GaussianNB()]\n",
    "def train_model(X_train, y_train):\n",
    "    model = RandomForestClassifier()   # DecisionTreeClassifier() and  KNeighborsClassifier() and GaussianNB()\n",
    "    model.fit(X_train, y_train)\n",
    "    \n",
    "    return model\n",
    "model = train_model(X_train, y_train)"
   ]
  },
  {
   "cell_type": "code",
   "execution_count": 18,
   "metadata": {},
   "outputs": [],
   "source": [
    "def test_model (X_train, X_test, y_test):\n",
    "    y_test_pred = model.predict(X_test)\n",
    "    y_tain_pred = model.predict(X_train)\n",
    "    \n",
    "    return  y_tain_pred,y_test_pred\n",
    "\n",
    "y_train_pred, y_test_pred = test_model (X_train, X_test, y_test)"
   ]
  },
  {
   "cell_type": "code",
   "execution_count": 19,
   "metadata": {},
   "outputs": [
    {
     "name": "stdout",
     "output_type": "stream",
     "text": [
      "test accuracy:  0.725875\n",
      "train accuracy:  1.0\n",
      "confusion matrix: \n",
      " [[266  32  78  64 205  79   3  71  18   8]\n",
      " [ 30 589  48  41  39   8   3  25  12   1]\n",
      " [100  83 341  98  83  29   1  15  11   1]\n",
      " [ 44  46  48 541  67  12   2  20   8   3]\n",
      " [134  50  37  26 447  56   1  48  15   0]\n",
      " [ 45   8  12  19  46 622   2  15   3   1]\n",
      " [  0   0   0   0   0   0 815   0   0   0]\n",
      " [ 46  39  18  22  48  18   2 624  17   2]\n",
      " [  8   4   0   2   5   2   0   6 759   0]\n",
      " [  0   0   0   0   0   0   0   0   0 803]]\n"
     ]
    }
   ],
   "source": [
    "#model stat\n",
    "def model_accuracy_stat(y_test, y_test_pred, y_train, y_train_pred):\n",
    "    print('test accuracy: ', accuracy_score(y_test,y_test_pred))\n",
    "    print('train accuracy: ', accuracy_score(y_train, y_train_pred))\n",
    "    #print(classification_report(y_test, y_test_pred))\n",
    "    print('confusion matrix: \\n', confusion_matrix(y_test, y_test_pred))\n",
    "\n",
    "model_accuracy_stat(y_test, y_test_pred, y_train, y_train_pred)"
   ]
  },
  {
   "cell_type": "code",
   "execution_count": null,
   "metadata": {},
   "outputs": [],
   "source": []
  },
  {
   "cell_type": "code",
   "execution_count": null,
   "metadata": {},
   "outputs": [],
   "source": []
  },
  {
   "cell_type": "code",
   "execution_count": null,
   "metadata": {},
   "outputs": [],
   "source": []
  }
 ],
 "metadata": {
  "kernelspec": {
   "display_name": "Python 3",
   "language": "python",
   "name": "python3"
  },
  "language_info": {
   "codemirror_mode": {
    "name": "ipython",
    "version": 3
   },
   "file_extension": ".py",
   "mimetype": "text/x-python",
   "name": "python",
   "nbconvert_exporter": "python",
   "pygments_lexer": "ipython3",
   "version": "3.8.3"
  },
  "pycharm": {
   "stem_cell": {
    "cell_type": "raw",
    "metadata": {
     "collapsed": false
    },
    "source": []
   }
  }
 },
 "nbformat": 4,
 "nbformat_minor": 2
}
